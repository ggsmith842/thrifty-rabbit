{
 "cells": [
  {
   "attachments": {},
   "cell_type": "markdown",
   "metadata": {},
   "source": [
    "## Automated Portfolio Management\n",
    "\n",
    "### Complete Example\n",
    "\n",
    "#### Includes:\n",
    "- Data collection\n",
    "- Goal setting and probability\n",
    "- Projections"
   ]
  },
  {
   "cell_type": "code",
   "execution_count": 1,
   "metadata": {},
   "outputs": [],
   "source": [
    "from projections import Projection\n",
    "from datetime import date\n",
    "from goals import Goal\n",
    "import riskevaluation as rv\n",
    "import pyportfolio as py\n",
    "\n",
    "questionsFile = '../Data/questionnaire.csv'\n",
    "answersFile = '../Data/answers.csv'"
   ]
  },
  {
   "cell_type": "code",
   "execution_count": 2,
   "metadata": {},
   "outputs": [],
   "source": [
    "myGoal = Goal('Retirement', targetYear=2041, targetValue=3000000, initialContribution=50000,monthlyContribution=500,priority='Wishes')"
   ]
  },
  {
   "cell_type": "code",
   "execution_count": null,
   "metadata": {},
   "outputs": [],
   "source": [
    "toleranceQuestions = rv.RiskQuestionnaire()\n",
    "toleranceQuestions.loadQuestionnaire(questionsFile,answersFile,\"Tolerance\")\n",
    "\n",
    "capacityQuestionnaire = rv.RiskQuestionnaire()\n",
    "capacityQuestionnaire.loadQuestionnaire(questionsFile, answersFile, \"Capacity\")\n",
    "\n",
    "toleranceQuestions.answerQuestionnaire()\n",
    "capacityQuestionnaire.answerQuestionnaire()"
   ]
  },
  {
   "cell_type": "code",
   "execution_count": null,
   "metadata": {},
   "outputs": [],
   "source": [
    "toleranceQuestions.calculateScore()\n",
    "capacityQuestionnaire.calculateScore()\n",
    "\n",
    "riskCapScore = capacityQuestionnaire.score\n",
    "riskTolScore = toleranceQuestions.score"
   ]
  },
  {
   "cell_type": "code",
   "execution_count": null,
   "metadata": {},
   "outputs": [],
   "source": [
    "myPortfolioId = py.Portfolio.getPortfolioMapping(riskTolScore, riskCapScore)"
   ]
  },
  {
   "cell_type": "code",
   "execution_count": null,
   "metadata": {},
   "outputs": [],
   "source": [
    "myPortfolio = py.Portfolio(portfolioName='Moderate Growth',tickerString=\"VTI TLT IEI GLD DBC\",\n",
    "                           expectedReturn=0.06, \n",
    "                           riskBucket=myPortfolioId)"
   ]
  },
  {
   "cell_type": "code",
   "execution_count": null,
   "metadata": {},
   "outputs": [],
   "source": [
    "yearsToGoal = myGoal.targetYear - date.today().year\n",
    "myProjection = Projection(expectedReturn = myPortfolio.expectedReturn,\n",
    "                          expectedRisk = myPortfolio.expectedRisk,\n",
    "                          initialInvestment= myGoal.initialContribution,\n",
    "                          monthlyInvestment= myGoal.monthlyContribution,\n",
    "                          years = yearsToGoal)"
   ]
  },
  {
   "cell_type": "code",
   "execution_count": null,
   "metadata": {},
   "outputs": [],
   "source": [
    "myProjection.visualize(myGoal.targetYear)"
   ]
  }
 ],
 "metadata": {
  "kernelspec": {
   "display_name": "venv",
   "language": "python",
   "name": "python3"
  },
  "language_info": {
   "codemirror_mode": {
    "name": "ipython",
    "version": 3
   },
   "file_extension": ".py",
   "mimetype": "text/x-python",
   "name": "python",
   "nbconvert_exporter": "python",
   "pygments_lexer": "ipython3",
   "version": "3.11.3"
  },
  "orig_nbformat": 4
 },
 "nbformat": 4,
 "nbformat_minor": 2
}
