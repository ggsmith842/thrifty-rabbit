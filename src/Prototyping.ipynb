{
 "cells": [
  {
   "cell_type": "code",
   "execution_count": null,
   "metadata": {},
   "outputs": [],
   "source": [
    "# %pip install torch"
   ]
  },
  {
   "cell_type": "code",
   "execution_count": 6,
   "metadata": {},
   "outputs": [],
   "source": [
    "import pandas as pd\n",
    "import matplotlib.pyplot as plt\n",
    "import plotly\n",
    "import plotly.express as px\n",
    "import requests\n",
    "import numpy as np\n",
    "\n",
    "import os\n",
    "\n",
    "\n",
    "import torch\n",
    "import torch.nn as nn\n",
    "import torch.nn.functional as F\n",
    "import torch.optim as optim\n",
    "from torch.utils.data import Dataset\n",
    "from torch.utils.data import DataLoader"
   ]
  },
  {
   "cell_type": "code",
   "execution_count": 2,
   "metadata": {},
   "outputs": [],
   "source": [
    "## set environment variables\n",
    "# os.environ[\"APIKEY\"] = \"*************\""
   ]
  },
  {
   "attachments": {},
   "cell_type": "markdown",
   "metadata": {},
   "source": [
    "## Thrifty-Rabbit Project\n",
    "### Project Goals\n",
    "\n",
    "Goals:\n",
    "1. Monitor and evaluate a dividend portfolio.\n",
    "2. Create an optimized value portfolio.\n",
    "\n"
   ]
  },
  {
   "attachments": {},
   "cell_type": "markdown",
   "metadata": {},
   "source": [
    "#### Data Import and Processing\n",
    "\n",
    "Step one is to have a way to get stock prices and fundamental data needed to evaulate an asset into our program. \n",
    "\n",
    "Alpha-vantage offers a free api that will allow me to get all the data I need to analyze an asset. \n",
    "\n",
    "I will use three different endpoints to collect the data needed to analyze the asset:\n"
   ]
  },
  {
   "cell_type": "code",
   "execution_count": null,
   "metadata": {},
   "outputs": [],
   "source": []
  },
  {
   "cell_type": "code",
   "execution_count": 2,
   "metadata": {},
   "outputs": [],
   "source": [
    "# get the monthly adjusted prices for the portfolio symbols using AlphaVantage API\n",
    "\n",
    "prices = pd.DataFrame()\n",
    "for symbol in portfolio:\n",
    "    url = f\"https://www.alphavantage.co/query?function=TIME_SERIES_MONTHLY_ADJUSTED&symbol={symbol}&apikey=demo\"\n",
    "    r = requests.get(url)\n",
    "    data = r.json()\n",
    "    df = pd.DataFrame(data[\"Monthly Adjusted Time Series\"]).T\n",
    "    df[\"symbol\"] = symbol\n",
    "    prices = prices.append(df)\n",
    "\n",
    "# rename the columns and set the index as date\n",
    "prices.columns = [\"open\", \"high\", \"low\", \"close\", \"adj_close\", \"volume\", \"dividend\", \"symbol\"]\n",
    "prices.index = pd.to_datetime(prices.index)\n",
    "prices.sort_index(inplace=True)\n",
    "\n",
    "# print the first five rows of the dataframe\n",
    "print(prices.head())"
   ]
  },
  {
   "cell_type": "code",
   "execution_count": null,
   "metadata": {},
   "outputs": [],
   "source": [
    "print(os.getenv(\"APIKEY\"))"
   ]
  },
  {
   "attachments": {},
   "cell_type": "markdown",
   "metadata": {},
   "source": [
    "## Analysis"
   ]
  },
  {
   "cell_type": "code",
   "execution_count": null,
   "metadata": {},
   "outputs": [],
   "source": [
    "#Build portfolio\n",
    "portfolio = [\n",
    "    \"SPY\",\n",
    "    \"WMT\",\n",
    "    \"JNPR\",\n",
    "    \"CVS\",\n",
    "    \"BAC\",\n",
    "    \"JNJ\",\n",
    "    \"ABB\",\n",
    "    \"ORCL\",\n",
    "] "
   ]
  }
 ],
 "metadata": {
  "kernelspec": {
   "display_name": "Python 3",
   "language": "python",
   "name": "python3"
  },
  "language_info": {
   "codemirror_mode": {
    "name": "ipython",
    "version": 3
   },
   "file_extension": ".py",
   "mimetype": "text/x-python",
   "name": "python",
   "nbconvert_exporter": "python",
   "pygments_lexer": "ipython3",
   "version": "3.11.2"
  },
  "orig_nbformat": 4
 },
 "nbformat": 4,
 "nbformat_minor": 2
}
