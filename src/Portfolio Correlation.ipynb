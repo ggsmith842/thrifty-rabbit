{
 "cells": [
  {
   "cell_type": "code",
   "execution_count": 1,
   "metadata": {},
   "outputs": [],
   "source": [
    "import pandas as pd\n",
    "import yfinance as yf\n",
    "import numpy as np\n",
    "import datetime\n",
    "import matplotlib.pyplot as plt\n",
    "import seaborn as sns"
   ]
  },
  {
   "cell_type": "markdown",
   "metadata": {},
   "source": [
    "## Stock Correlation in Portfolio Mgt\n"
   ]
  },
  {
   "cell_type": "code",
   "execution_count": 2,
   "metadata": {},
   "outputs": [
    {
     "name": "stdout",
     "output_type": "stream",
     "text": [
      "[*********************100%***********************]  1 of 1 completed\n",
      "[*********************100%***********************]  1 of 1 completed\n",
      "[*********************100%***********************]  1 of 1 completed\n",
      "[*********************100%***********************]  1 of 1 completed\n",
      "[*********************100%***********************]  1 of 1 completed\n",
      "[*********************100%***********************]  1 of 1 completed\n",
      "[*********************100%***********************]  1 of 1 completed\n",
      "[*********************100%***********************]  1 of 1 completed\n",
      "[*********************100%***********************]  1 of 1 completed\n"
     ]
    }
   ],
   "source": [
    "assetList = ['BAC', 'WMT', 'JNPR', 'JNJ', 'CVS', 'BX', 'ORCL', 'T', 'SHEL'] \n",
    "\n",
    "price_data = pd.DataFrame()\n",
    "for asset in assetList:\n",
    "    data = yf.download(asset, start=\"2021-01-01\", end=\"2023-04-23\")\n",
    "    data[\"Symbol\"] = asset\n",
    "    price_data = pd.concat([price_data, data])\n",
    "\n",
    "price_data.reset_index(inplace=True)"
   ]
  },
  {
   "cell_type": "code",
   "execution_count": 3,
   "metadata": {},
   "outputs": [
    {
     "name": "stderr",
     "output_type": "stream",
     "text": [
      "C:\\Users\\grant\\AppData\\Local\\Temp\\ipykernel_4300\\3137756253.py:1: FutureWarning: In a future version of pandas all arguments of DataFrame.pivot will be keyword-only.\n",
      "  pivot_df = price_data.pivot('Date','Symbol','Close').reset_index()\n"
     ]
    },
    {
     "data": {
      "text/html": [
       "<div>\n",
       "<style scoped>\n",
       "    .dataframe tbody tr th:only-of-type {\n",
       "        vertical-align: middle;\n",
       "    }\n",
       "\n",
       "    .dataframe tbody tr th {\n",
       "        vertical-align: top;\n",
       "    }\n",
       "\n",
       "    .dataframe thead th {\n",
       "        text-align: right;\n",
       "    }\n",
       "</style>\n",
       "<table border=\"1\" class=\"dataframe\">\n",
       "  <thead>\n",
       "    <tr style=\"text-align: right;\">\n",
       "      <th>Symbol</th>\n",
       "      <th>Date</th>\n",
       "      <th>BAC</th>\n",
       "      <th>BX</th>\n",
       "      <th>CVS</th>\n",
       "      <th>JNJ</th>\n",
       "      <th>JNPR</th>\n",
       "      <th>ORCL</th>\n",
       "      <th>SHEL</th>\n",
       "      <th>T</th>\n",
       "      <th>WMT</th>\n",
       "    </tr>\n",
       "  </thead>\n",
       "  <tbody>\n",
       "    <tr>\n",
       "      <th>0</th>\n",
       "      <td>2021-01-04</td>\n",
       "      <td>30.030001</td>\n",
       "      <td>63.000000</td>\n",
       "      <td>69.989998</td>\n",
       "      <td>156.500000</td>\n",
       "      <td>22.610001</td>\n",
       "      <td>63.750000</td>\n",
       "      <td>36.029999</td>\n",
       "      <td>22.235649</td>\n",
       "      <td>146.529999</td>\n",
       "    </tr>\n",
       "    <tr>\n",
       "      <th>1</th>\n",
       "      <td>2021-01-05</td>\n",
       "      <td>30.260000</td>\n",
       "      <td>62.810001</td>\n",
       "      <td>70.459999</td>\n",
       "      <td>158.339996</td>\n",
       "      <td>23.360001</td>\n",
       "      <td>62.959999</td>\n",
       "      <td>38.509998</td>\n",
       "      <td>22.099697</td>\n",
       "      <td>145.750000</td>\n",
       "    </tr>\n",
       "    <tr>\n",
       "      <th>2</th>\n",
       "      <td>2021-01-06</td>\n",
       "      <td>32.150002</td>\n",
       "      <td>61.660000</td>\n",
       "      <td>72.559998</td>\n",
       "      <td>159.830002</td>\n",
       "      <td>23.580000</td>\n",
       "      <td>62.570000</td>\n",
       "      <td>40.290001</td>\n",
       "      <td>22.530210</td>\n",
       "      <td>146.660004</td>\n",
       "    </tr>\n",
       "    <tr>\n",
       "      <th>3</th>\n",
       "      <td>2021-01-07</td>\n",
       "      <td>32.860001</td>\n",
       "      <td>63.230000</td>\n",
       "      <td>73.989998</td>\n",
       "      <td>160.369995</td>\n",
       "      <td>23.830000</td>\n",
       "      <td>63.070000</td>\n",
       "      <td>40.340000</td>\n",
       "      <td>22.590633</td>\n",
       "      <td>146.649994</td>\n",
       "    </tr>\n",
       "    <tr>\n",
       "      <th>4</th>\n",
       "      <td>2021-01-08</td>\n",
       "      <td>32.529999</td>\n",
       "      <td>62.900002</td>\n",
       "      <td>74.860001</td>\n",
       "      <td>160.039993</td>\n",
       "      <td>23.799999</td>\n",
       "      <td>63.380001</td>\n",
       "      <td>40.240002</td>\n",
       "      <td>21.918428</td>\n",
       "      <td>146.630005</td>\n",
       "    </tr>\n",
       "  </tbody>\n",
       "</table>\n",
       "</div>"
      ],
      "text/plain": [
       "Symbol       Date        BAC         BX        CVS         JNJ       JNPR  \\\n",
       "0      2021-01-04  30.030001  63.000000  69.989998  156.500000  22.610001   \n",
       "1      2021-01-05  30.260000  62.810001  70.459999  158.339996  23.360001   \n",
       "2      2021-01-06  32.150002  61.660000  72.559998  159.830002  23.580000   \n",
       "3      2021-01-07  32.860001  63.230000  73.989998  160.369995  23.830000   \n",
       "4      2021-01-08  32.529999  62.900002  74.860001  160.039993  23.799999   \n",
       "\n",
       "Symbol       ORCL       SHEL          T         WMT  \n",
       "0       63.750000  36.029999  22.235649  146.529999  \n",
       "1       62.959999  38.509998  22.099697  145.750000  \n",
       "2       62.570000  40.290001  22.530210  146.660004  \n",
       "3       63.070000  40.340000  22.590633  146.649994  \n",
       "4       63.380001  40.240002  21.918428  146.630005  "
      ]
     },
     "execution_count": 3,
     "metadata": {},
     "output_type": "execute_result"
    }
   ],
   "source": [
    "pivot_df = price_data.pivot('Date','Symbol','Close').reset_index()\n",
    "pivot_df.head()"
   ]
  },
  {
   "cell_type": "code",
   "execution_count": 4,
   "metadata": {},
   "outputs": [
    {
     "name": "stderr",
     "output_type": "stream",
     "text": [
      "C:\\Users\\grant\\AppData\\Local\\Temp\\ipykernel_4300\\2888547379.py:1: FutureWarning: The default value of numeric_only in DataFrame.corr is deprecated. In a future version, it will default to False. Select only valid columns or specify the value of numeric_only to silence this warning.\n",
      "  corr_df = pivot_df.corr(method='pearson')\n"
     ]
    },
    {
     "data": {
      "text/html": [
       "<div>\n",
       "<style scoped>\n",
       "    .dataframe tbody tr th:only-of-type {\n",
       "        vertical-align: middle;\n",
       "    }\n",
       "\n",
       "    .dataframe tbody tr th {\n",
       "        vertical-align: top;\n",
       "    }\n",
       "\n",
       "    .dataframe thead th {\n",
       "        text-align: right;\n",
       "    }\n",
       "</style>\n",
       "<table border=\"1\" class=\"dataframe\">\n",
       "  <thead>\n",
       "    <tr style=\"text-align: right;\">\n",
       "      <th>Symbol</th>\n",
       "      <th>BAC</th>\n",
       "      <th>BX</th>\n",
       "      <th>CVS</th>\n",
       "      <th>JNJ</th>\n",
       "      <th>JNPR</th>\n",
       "      <th>ORCL</th>\n",
       "      <th>SHEL</th>\n",
       "      <th>T</th>\n",
       "      <th>WMT</th>\n",
       "    </tr>\n",
       "    <tr>\n",
       "      <th>Symbol</th>\n",
       "      <th></th>\n",
       "      <th></th>\n",
       "      <th></th>\n",
       "      <th></th>\n",
       "      <th></th>\n",
       "      <th></th>\n",
       "      <th></th>\n",
       "      <th></th>\n",
       "      <th></th>\n",
       "    </tr>\n",
       "  </thead>\n",
       "  <tbody>\n",
       "    <tr>\n",
       "      <th>BAC</th>\n",
       "      <td>1.000000</td>\n",
       "      <td>0.731284</td>\n",
       "      <td>0.316738</td>\n",
       "      <td>0.058145</td>\n",
       "      <td>0.271173</td>\n",
       "      <td>0.454788</td>\n",
       "      <td>-0.353276</td>\n",
       "      <td>0.087544</td>\n",
       "      <td>0.231402</td>\n",
       "    </tr>\n",
       "    <tr>\n",
       "      <th>BX</th>\n",
       "      <td>0.731284</td>\n",
       "      <td>1.000000</td>\n",
       "      <td>0.532243</td>\n",
       "      <td>0.191501</td>\n",
       "      <td>0.540849</td>\n",
       "      <td>0.587577</td>\n",
       "      <td>0.007884</td>\n",
       "      <td>-0.314904</td>\n",
       "      <td>0.161976</td>\n",
       "    </tr>\n",
       "    <tr>\n",
       "      <th>CVS</th>\n",
       "      <td>0.316738</td>\n",
       "      <td>0.532243</td>\n",
       "      <td>1.000000</td>\n",
       "      <td>0.564655</td>\n",
       "      <td>0.655780</td>\n",
       "      <td>0.085723</td>\n",
       "      <td>0.457586</td>\n",
       "      <td>-0.614433</td>\n",
       "      <td>0.006593</td>\n",
       "    </tr>\n",
       "    <tr>\n",
       "      <th>JNJ</th>\n",
       "      <td>0.058145</td>\n",
       "      <td>0.191501</td>\n",
       "      <td>0.564655</td>\n",
       "      <td>1.000000</td>\n",
       "      <td>0.342647</td>\n",
       "      <td>-0.071798</td>\n",
       "      <td>0.196797</td>\n",
       "      <td>-0.040239</td>\n",
       "      <td>0.137108</td>\n",
       "    </tr>\n",
       "    <tr>\n",
       "      <th>JNPR</th>\n",
       "      <td>0.271173</td>\n",
       "      <td>0.540849</td>\n",
       "      <td>0.655780</td>\n",
       "      <td>0.342647</td>\n",
       "      <td>1.000000</td>\n",
       "      <td>0.520727</td>\n",
       "      <td>0.606677</td>\n",
       "      <td>-0.520599</td>\n",
       "      <td>0.378661</td>\n",
       "    </tr>\n",
       "  </tbody>\n",
       "</table>\n",
       "</div>"
      ],
      "text/plain": [
       "Symbol       BAC        BX       CVS       JNJ      JNPR      ORCL      SHEL  \\\n",
       "Symbol                                                                         \n",
       "BAC     1.000000  0.731284  0.316738  0.058145  0.271173  0.454788 -0.353276   \n",
       "BX      0.731284  1.000000  0.532243  0.191501  0.540849  0.587577  0.007884   \n",
       "CVS     0.316738  0.532243  1.000000  0.564655  0.655780  0.085723  0.457586   \n",
       "JNJ     0.058145  0.191501  0.564655  1.000000  0.342647 -0.071798  0.196797   \n",
       "JNPR    0.271173  0.540849  0.655780  0.342647  1.000000  0.520727  0.606677   \n",
       "\n",
       "Symbol         T       WMT  \n",
       "Symbol                      \n",
       "BAC     0.087544  0.231402  \n",
       "BX     -0.314904  0.161976  \n",
       "CVS    -0.614433  0.006593  \n",
       "JNJ    -0.040239  0.137108  \n",
       "JNPR   -0.520599  0.378661  "
      ]
     },
     "execution_count": 4,
     "metadata": {},
     "output_type": "execute_result"
    }
   ],
   "source": [
    "corr_df = pivot_df.corr(method='pearson')\n",
    "#reset symbol as index (rather than 0-X)\n",
    "corr_df.head()"
   ]
  },
  {
   "cell_type": "code",
   "execution_count": 5,
   "metadata": {},
   "outputs": [
    {
     "data": {
      "text/plain": [
       "<Axes: xlabel='Symbol', ylabel='Symbol'>"
      ]
     },
     "execution_count": 5,
     "metadata": {},
     "output_type": "execute_result"
    },
    {
     "data": {
      "image/png": "[encoded data removed]",
      "text/plain": [
       "<Figure size 1300x800 with 2 Axes>"
      ]
     },
     "metadata": {},
     "output_type": "display_data"
    }
   ],
   "source": [
    "#grab bottom half\n",
    "mask = np.zeros_like(corr_df)\n",
    "mask[np.triu_indices_from(mask)] = True\n",
    "\n",
    "#plot correlations\n",
    "plt.figure(figsize=(13,8))\n",
    "sns.heatmap(corr_df, annot=True, cmap='RdYlGn', vmax=1.0,vmin=-1.0, mask = mask, linewidths=2.5)"
   ]
  },
  {
   "cell_type": "code",
   "execution_count": 6,
   "metadata": {},
   "outputs": [
    {
     "name": "stdout",
     "output_type": "stream",
     "text": [
      "Symbol\n",
      "BAC     0.310866\n",
      "BX      0.382046\n",
      "CVS     0.333876\n",
      "JNJ     0.264313\n",
      "JNPR    0.421768\n",
      "ORCL    0.334628\n",
      "SHEL    0.159313\n",
      "T      -0.123566\n",
      "WMT     0.265105\n",
      "dtype: float64\n"
     ]
    }
   ],
   "source": [
    "avg_corr = corr_df.mean()\n",
    "print(avg_corr)"
   ]
  },
  {
   "cell_type": "code",
   "execution_count": 7,
   "metadata": {},
   "outputs": [
    {
     "name": "stdout",
     "output_type": "stream",
     "text": [
      "0.26092769678237515\n"
     ]
    }
   ],
   "source": [
    "print(avg_corr.mean())"
   ]
  }
 ],
 "metadata": {
  "kernelspec": {
   "display_name": "python_ds",
   "language": "python",
   "name": "python3"
  },
  "language_info": {
   "codemirror_mode": {
    "name": "ipython",
    "version": 3
   },
   "file_extension": ".py",
   "mimetype": "text/x-python",
   "name": "python",
   "nbconvert_exporter": "python",
   "pygments_lexer": "ipython3",
   "version": "3.11.4"
  },
  "orig_nbformat": 4
 },
 "nbformat": 4,
 "nbformat_minor": 2
}
