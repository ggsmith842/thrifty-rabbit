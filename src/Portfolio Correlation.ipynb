{
 "cells": [
  {
   "cell_type": "code",
   "execution_count": 2,
   "metadata": {},
   "outputs": [],
   "source": [
    "import pandas as pd\n",
    "import yfinance as yf\n",
    "import numpy as np\n",
    "import datetime\n",
    "import matplotlib.pyplot as plt\n",
    "import seaborn as sns"
   ]
  },
  {
   "cell_type": "markdown",
   "metadata": {},
   "source": [
    "## Stock Correlation in Portfolio Mgt\n"
   ]
  },
  {
   "cell_type": "code",
   "execution_count": 3,
   "metadata": {},
   "outputs": [
    {
     "name": "stdout",
     "output_type": "stream",
     "text": [
      "[*********************100%***********************]  1 of 1 completed\n",
      "[*********************100%***********************]  1 of 1 completed\n",
      "[*********************100%***********************]  1 of 1 completed\n",
      "[*********************100%***********************]  1 of 1 completed\n",
      "[*********************100%***********************]  1 of 1 completed\n",
      "[*********************100%***********************]  1 of 1 completed\n",
      "[*********************100%***********************]  1 of 1 completed\n",
      "[*********************100%***********************]  1 of 1 completed\n",
      "[*********************100%***********************]  1 of 1 completed\n",
      "[*********************100%***********************]  1 of 1 completed\n",
      "[*********************100%***********************]  1 of 1 completed\n"
     ]
    }
   ],
   "source": [
    "assetList = ['BAC', 'WMT', 'JNPR', 'JNJ', 'CVS', 'BX', 'ABB', 'ORCL', 'USRT', 'T', 'SPY']\n",
    "\n",
    "price_data = pd.DataFrame()\n",
    "for asset in assetList:\n",
    "    data = yf.download(asset, start=\"2021-01-01\", end=\"2023-04-23\")\n",
    "    data[\"Symbol\"] = asset\n",
    "    price_data = pd.concat([price_data, data])\n",
    "\n",
    "price_data.reset_index(inplace=True)"
   ]
  },
  {
   "cell_type": "code",
   "execution_count": 4,
   "metadata": {},
   "outputs": [
    {
     "data": {
      "text/html": [
       "<div>\n",
       "<style scoped>\n",
       "    .dataframe tbody tr th:only-of-type {\n",
       "        vertical-align: middle;\n",
       "    }\n",
       "\n",
       "    .dataframe tbody tr th {\n",
       "        vertical-align: top;\n",
       "    }\n",
       "\n",
       "    .dataframe thead th {\n",
       "        text-align: right;\n",
       "    }\n",
       "</style>\n",
       "<table border=\"1\" class=\"dataframe\">\n",
       "  <thead>\n",
       "    <tr style=\"text-align: right;\">\n",
       "      <th>Symbol</th>\n",
       "      <th>Date</th>\n",
       "      <th>ABB</th>\n",
       "      <th>BAC</th>\n",
       "      <th>BX</th>\n",
       "      <th>CVS</th>\n",
       "      <th>JNJ</th>\n",
       "      <th>JNPR</th>\n",
       "      <th>ORCL</th>\n",
       "      <th>SPY</th>\n",
       "      <th>T</th>\n",
       "      <th>USRT</th>\n",
       "      <th>WMT</th>\n",
       "    </tr>\n",
       "  </thead>\n",
       "  <tbody>\n",
       "    <tr>\n",
       "      <th>0</th>\n",
       "      <td>2021-01-04</td>\n",
       "      <td>28.270000</td>\n",
       "      <td>30.030001</td>\n",
       "      <td>63.000000</td>\n",
       "      <td>69.989998</td>\n",
       "      <td>156.500000</td>\n",
       "      <td>22.610001</td>\n",
       "      <td>63.750000</td>\n",
       "      <td>368.790009</td>\n",
       "      <td>22.235649</td>\n",
       "      <td>46.740002</td>\n",
       "      <td>146.529999</td>\n",
       "    </tr>\n",
       "    <tr>\n",
       "      <th>1</th>\n",
       "      <td>2021-01-05</td>\n",
       "      <td>28.920000</td>\n",
       "      <td>30.260000</td>\n",
       "      <td>62.810001</td>\n",
       "      <td>70.459999</td>\n",
       "      <td>158.339996</td>\n",
       "      <td>23.360001</td>\n",
       "      <td>62.959999</td>\n",
       "      <td>371.329987</td>\n",
       "      <td>22.099697</td>\n",
       "      <td>46.689999</td>\n",
       "      <td>145.750000</td>\n",
       "    </tr>\n",
       "    <tr>\n",
       "      <th>2</th>\n",
       "      <td>2021-01-06</td>\n",
       "      <td>29.670000</td>\n",
       "      <td>32.150002</td>\n",
       "      <td>61.660000</td>\n",
       "      <td>72.559998</td>\n",
       "      <td>159.830002</td>\n",
       "      <td>23.580000</td>\n",
       "      <td>62.570000</td>\n",
       "      <td>373.549988</td>\n",
       "      <td>22.530210</td>\n",
       "      <td>47.020000</td>\n",
       "      <td>146.660004</td>\n",
       "    </tr>\n",
       "    <tr>\n",
       "      <th>3</th>\n",
       "      <td>2021-01-07</td>\n",
       "      <td>30.040001</td>\n",
       "      <td>32.860001</td>\n",
       "      <td>63.230000</td>\n",
       "      <td>73.989998</td>\n",
       "      <td>160.369995</td>\n",
       "      <td>23.830000</td>\n",
       "      <td>63.070000</td>\n",
       "      <td>379.100006</td>\n",
       "      <td>22.590633</td>\n",
       "      <td>46.830002</td>\n",
       "      <td>146.649994</td>\n",
       "    </tr>\n",
       "    <tr>\n",
       "      <th>4</th>\n",
       "      <td>2021-01-08</td>\n",
       "      <td>30.260000</td>\n",
       "      <td>32.529999</td>\n",
       "      <td>62.900002</td>\n",
       "      <td>74.860001</td>\n",
       "      <td>160.039993</td>\n",
       "      <td>23.799999</td>\n",
       "      <td>63.380001</td>\n",
       "      <td>381.260010</td>\n",
       "      <td>21.918428</td>\n",
       "      <td>47.230000</td>\n",
       "      <td>146.630005</td>\n",
       "    </tr>\n",
       "  </tbody>\n",
       "</table>\n",
       "</div>"
      ],
      "text/plain": [
       "Symbol       Date        ABB        BAC         BX        CVS         JNJ  \\\n",
       "0      2021-01-04  28.270000  30.030001  63.000000  69.989998  156.500000   \n",
       "1      2021-01-05  28.920000  30.260000  62.810001  70.459999  158.339996   \n",
       "2      2021-01-06  29.670000  32.150002  61.660000  72.559998  159.830002   \n",
       "3      2021-01-07  30.040001  32.860001  63.230000  73.989998  160.369995   \n",
       "4      2021-01-08  30.260000  32.529999  62.900002  74.860001  160.039993   \n",
       "\n",
       "Symbol       JNPR       ORCL         SPY          T       USRT         WMT  \n",
       "0       22.610001  63.750000  368.790009  22.235649  46.740002  146.529999  \n",
       "1       23.360001  62.959999  371.329987  22.099697  46.689999  145.750000  \n",
       "2       23.580000  62.570000  373.549988  22.530210  47.020000  146.660004  \n",
       "3       23.830000  63.070000  379.100006  22.590633  46.830002  146.649994  \n",
       "4       23.799999  63.380001  381.260010  21.918428  47.230000  146.630005  "
      ]
     },
     "execution_count": 4,
     "metadata": {},
     "output_type": "execute_result"
    }
   ],
   "source": [
    "pivot_df = price_data.pivot('Date','Symbol','Close').reset_index()\n",
    "pivot_df.head()"
   ]
  },
  {
   "cell_type": "code",
   "execution_count": 5,
   "metadata": {},
   "outputs": [
    {
     "data": {
      "text/html": [
       "<div>\n",
       "<style scoped>\n",
       "    .dataframe tbody tr th:only-of-type {\n",
       "        vertical-align: middle;\n",
       "    }\n",
       "\n",
       "    .dataframe tbody tr th {\n",
       "        vertical-align: top;\n",
       "    }\n",
       "\n",
       "    .dataframe thead th {\n",
       "        text-align: right;\n",
       "    }\n",
       "</style>\n",
       "<table border=\"1\" class=\"dataframe\">\n",
       "  <thead>\n",
       "    <tr style=\"text-align: right;\">\n",
       "      <th>Symbol</th>\n",
       "      <th>ABB</th>\n",
       "      <th>BAC</th>\n",
       "      <th>BX</th>\n",
       "      <th>CVS</th>\n",
       "      <th>JNJ</th>\n",
       "      <th>JNPR</th>\n",
       "      <th>ORCL</th>\n",
       "      <th>SPY</th>\n",
       "      <th>T</th>\n",
       "      <th>USRT</th>\n",
       "      <th>WMT</th>\n",
       "    </tr>\n",
       "    <tr>\n",
       "      <th>Symbol</th>\n",
       "      <th></th>\n",
       "      <th></th>\n",
       "      <th></th>\n",
       "      <th></th>\n",
       "      <th></th>\n",
       "      <th></th>\n",
       "      <th></th>\n",
       "      <th></th>\n",
       "      <th></th>\n",
       "      <th></th>\n",
       "      <th></th>\n",
       "    </tr>\n",
       "  </thead>\n",
       "  <tbody>\n",
       "    <tr>\n",
       "      <th>ABB</th>\n",
       "      <td>1.000000</td>\n",
       "      <td>0.638665</td>\n",
       "      <td>0.536172</td>\n",
       "      <td>-0.042960</td>\n",
       "      <td>-0.079729</td>\n",
       "      <td>0.377846</td>\n",
       "      <td>0.769675</td>\n",
       "      <td>0.809946</td>\n",
       "      <td>0.202811</td>\n",
       "      <td>0.636036</td>\n",
       "      <td>0.461879</td>\n",
       "    </tr>\n",
       "    <tr>\n",
       "      <th>BAC</th>\n",
       "      <td>0.638665</td>\n",
       "      <td>1.000000</td>\n",
       "      <td>0.731284</td>\n",
       "      <td>0.316738</td>\n",
       "      <td>0.058145</td>\n",
       "      <td>0.271173</td>\n",
       "      <td>0.454788</td>\n",
       "      <td>0.835922</td>\n",
       "      <td>0.087544</td>\n",
       "      <td>0.815009</td>\n",
       "      <td>0.231402</td>\n",
       "    </tr>\n",
       "    <tr>\n",
       "      <th>BX</th>\n",
       "      <td>0.536172</td>\n",
       "      <td>0.731284</td>\n",
       "      <td>1.000000</td>\n",
       "      <td>0.532243</td>\n",
       "      <td>0.191501</td>\n",
       "      <td>0.540849</td>\n",
       "      <td>0.587577</td>\n",
       "      <td>0.851105</td>\n",
       "      <td>-0.314904</td>\n",
       "      <td>0.864422</td>\n",
       "      <td>0.161976</td>\n",
       "    </tr>\n",
       "    <tr>\n",
       "      <th>CVS</th>\n",
       "      <td>-0.042960</td>\n",
       "      <td>0.316738</td>\n",
       "      <td>0.532243</td>\n",
       "      <td>1.000000</td>\n",
       "      <td>0.564655</td>\n",
       "      <td>0.655780</td>\n",
       "      <td>0.085723</td>\n",
       "      <td>0.302316</td>\n",
       "      <td>-0.614433</td>\n",
       "      <td>0.456082</td>\n",
       "      <td>0.006593</td>\n",
       "    </tr>\n",
       "    <tr>\n",
       "      <th>JNJ</th>\n",
       "      <td>-0.079729</td>\n",
       "      <td>0.058145</td>\n",
       "      <td>0.191501</td>\n",
       "      <td>0.564655</td>\n",
       "      <td>1.000000</td>\n",
       "      <td>0.342647</td>\n",
       "      <td>-0.071798</td>\n",
       "      <td>0.092735</td>\n",
       "      <td>-0.040239</td>\n",
       "      <td>0.267213</td>\n",
       "      <td>0.137108</td>\n",
       "    </tr>\n",
       "  </tbody>\n",
       "</table>\n",
       "</div>"
      ],
      "text/plain": [
       "Symbol       ABB       BAC        BX       CVS       JNJ      JNPR      ORCL  \\\n",
       "Symbol                                                                         \n",
       "ABB     1.000000  0.638665  0.536172 -0.042960 -0.079729  0.377846  0.769675   \n",
       "BAC     0.638665  1.000000  0.731284  0.316738  0.058145  0.271173  0.454788   \n",
       "BX      0.536172  0.731284  1.000000  0.532243  0.191501  0.540849  0.587577   \n",
       "CVS    -0.042960  0.316738  0.532243  1.000000  0.564655  0.655780  0.085723   \n",
       "JNJ    -0.079729  0.058145  0.191501  0.564655  1.000000  0.342647 -0.071798   \n",
       "\n",
       "Symbol       SPY         T      USRT       WMT  \n",
       "Symbol                                          \n",
       "ABB     0.809946  0.202811  0.636036  0.461879  \n",
       "BAC     0.835922  0.087544  0.815009  0.231402  \n",
       "BX      0.851105 -0.314904  0.864422  0.161976  \n",
       "CVS     0.302316 -0.614433  0.456082  0.006593  \n",
       "JNJ     0.092735 -0.040239  0.267213  0.137108  "
      ]
     },
     "execution_count": 5,
     "metadata": {},
     "output_type": "execute_result"
    }
   ],
   "source": [
    "corr_df = pivot_df.corr(method='pearson')\n",
    "#reset symbol as index (rather than 0-X)\n",
    "corr_df.head()"
   ]
  },
  {
   "cell_type": "code",
   "execution_count": 6,
   "metadata": {},
   "outputs": [
    {
     "data": {
      "text/plain": [
       "<AxesSubplot:xlabel='Symbol', ylabel='Symbol'>"
      ]
     },
     "execution_count": 6,
     "metadata": {},
     "output_type": "execute_result"
    },
    {
     "data": {
      "image/png": "[encoded data removed]",
      "text/plain": [
       "<Figure size 936x576 with 2 Axes>"
      ]
     },
     "metadata": {
      "needs_background": "light"
     },
     "output_type": "display_data"
    }
   ],
   "source": [
    "#grab bottom half\n",
    "mask = np.zeros_like(corr_df)\n",
    "mask[np.triu_indices_from(mask)] = True\n",
    "\n",
    "#plot correlations\n",
    "plt.figure(figsize=(13,8))\n",
    "sns.heatmap(corr_df, annot=True, cmap='RdYlGn', vmax=1.0,vmin=-1.0, mask = mask, linewidths=2.5)"
   ]
  },
  {
   "cell_type": "code",
   "execution_count": 7,
   "metadata": {},
   "outputs": [
    {
     "name": "stdout",
     "output_type": "stream",
     "text": [
      "Symbol\n",
      "ABB     0.482758\n",
      "BAC     0.494606\n",
      "BX      0.516566\n",
      "CVS     0.296613\n",
      "JNJ     0.223840\n",
      "JNPR    0.410293\n",
      "ORCL    0.445956\n",
      "SPY     0.582180\n",
      "T      -0.033473\n",
      "USRT    0.561501\n",
      "WMT     0.319485\n",
      "dtype: float64\n"
     ]
    }
   ],
   "source": [
    "avg_corr = corr_df.mean()\n",
    "print(avg_corr)"
   ]
  },
  {
   "cell_type": "code",
   "execution_count": 8,
   "metadata": {},
   "outputs": [
    {
     "name": "stdout",
     "output_type": "stream",
     "text": [
      "0.3909386622940486\n"
     ]
    }
   ],
   "source": [
    "print(avg_corr.mean())"
   ]
  }
 ],
 "metadata": {
  "kernelspec": {
   "display_name": "python_ds",
   "language": "python",
   "name": "python3"
  },
  "language_info": {
   "codemirror_mode": {
    "name": "ipython",
    "version": 3
   },
   "file_extension": ".py",
   "mimetype": "text/x-python",
   "name": "python",
   "nbconvert_exporter": "python",
   "pygments_lexer": "ipython3",
   "version": "3.9.7"
  },
  "orig_nbformat": 4
 },
 "nbformat": 4,
 "nbformat_minor": 2
}
